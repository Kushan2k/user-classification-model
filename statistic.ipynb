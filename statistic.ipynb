{
 "cells": [
  {
   "cell_type": "code",
   "execution_count": 70,
   "id": "a545f572-cb66-48dc-9fe2-10748ab0abf9",
   "metadata": {},
   "outputs": [
    {
     "name": "stdout",
     "output_type": "stream",
     "text": [
      "Requirement already satisfied: numpy in c:\\users\\kusha\\desktop\\react native projects\\python_dataset_generation_suggestion\\lib\\site-packages (1.26.4)\n",
      "Note: you may need to restart the kernel to use updated packages.\n"
     ]
    },
    {
     "name": "stderr",
     "output_type": "stream",
     "text": [
      "\n",
      "[notice] A new release of pip is available: 24.0 -> 24.2\n",
      "[notice] To update, run: python.exe -m pip install --upgrade pip\n"
     ]
    },
    {
     "name": "stdout",
     "output_type": "stream",
     "text": [
      "Requirement already satisfied: pandas in c:\\users\\kusha\\desktop\\react native projects\\python_dataset_generation_suggestion\\lib\\site-packages (2.2.2)\n",
      "Requirement already satisfied: numpy>=1.26.0 in c:\\users\\kusha\\desktop\\react native projects\\python_dataset_generation_suggestion\\lib\\site-packages (from pandas) (1.26.4)\n",
      "Requirement already satisfied: python-dateutil>=2.8.2 in c:\\users\\kusha\\desktop\\react native projects\\python_dataset_generation_suggestion\\lib\\site-packages (from pandas) (2.9.0.post0)\n",
      "Requirement already satisfied: pytz>=2020.1 in c:\\users\\kusha\\desktop\\react native projects\\python_dataset_generation_suggestion\\lib\\site-packages (from pandas) (2024.1)\n",
      "Requirement already satisfied: tzdata>=2022.7 in c:\\users\\kusha\\desktop\\react native projects\\python_dataset_generation_suggestion\\lib\\site-packages (from pandas) (2024.1)\n",
      "Requirement already satisfied: six>=1.5 in c:\\users\\kusha\\desktop\\react native projects\\python_dataset_generation_suggestion\\lib\\site-packages (from python-dateutil>=2.8.2->pandas) (1.16.0)\n",
      "Note: you may need to restart the kernel to use updated packages.\n"
     ]
    },
    {
     "name": "stderr",
     "output_type": "stream",
     "text": [
      "\n",
      "[notice] A new release of pip is available: 24.0 -> 24.2\n",
      "[notice] To update, run: python.exe -m pip install --upgrade pip\n"
     ]
    }
   ],
   "source": [
    "%pip install numpy\n",
    "%pip install pandas"
   ]
  },
  {
   "cell_type": "code",
   "execution_count": 71,
   "id": "8a8cf4d9-94eb-46f5-b7fa-e1ccfee75632",
   "metadata": {},
   "outputs": [],
   "source": [
    "import pandas as pd\n",
    "import numpy as np"
   ]
  },
  {
   "cell_type": "code",
   "execution_count": 72,
   "id": "9dedd182-861c-41be-893b-e1c92731122d",
   "metadata": {},
   "outputs": [],
   "source": [
    "data=pd.read_csv('train_dataset.csv')"
   ]
  },
  {
   "cell_type": "code",
   "execution_count": 73,
   "id": "32659c72-5d7e-4510-ad27-73a0b1db1d92",
   "metadata": {},
   "outputs": [
    {
     "data": {
      "text/html": [
       "<div>\n",
       "<style scoped>\n",
       "    .dataframe tbody tr th:only-of-type {\n",
       "        vertical-align: middle;\n",
       "    }\n",
       "\n",
       "    .dataframe tbody tr th {\n",
       "        vertical-align: top;\n",
       "    }\n",
       "\n",
       "    .dataframe thead th {\n",
       "        text-align: right;\n",
       "    }\n",
       "</style>\n",
       "<table border=\"1\" class=\"dataframe\">\n",
       "  <thead>\n",
       "    <tr style=\"text-align: right;\">\n",
       "      <th></th>\n",
       "      <th>ID</th>\n",
       "      <th>Gender</th>\n",
       "      <th>Ever_Married</th>\n",
       "      <th>Age</th>\n",
       "      <th>Graduated</th>\n",
       "      <th>Profession</th>\n",
       "      <th>Work_Experience</th>\n",
       "      <th>Spending_Score</th>\n",
       "      <th>Family_Size</th>\n",
       "      <th>Segmentation</th>\n",
       "      <th>Specific_food_categories</th>\n",
       "      <th>preferred_activities</th>\n",
       "      <th>Travel_Preferences</th>\n",
       "      <th>Preferred_cuisines</th>\n",
       "      <th>Climate_preference</th>\n",
       "    </tr>\n",
       "  </thead>\n",
       "  <tbody>\n",
       "    <tr>\n",
       "      <th>0</th>\n",
       "      <td>462809</td>\n",
       "      <td>Male</td>\n",
       "      <td>No</td>\n",
       "      <td>22</td>\n",
       "      <td>No</td>\n",
       "      <td>Healthcare</td>\n",
       "      <td>1.0</td>\n",
       "      <td>Low</td>\n",
       "      <td>4.0</td>\n",
       "      <td>D</td>\n",
       "      <td>food,</td>\n",
       "      <td>scuba</td>\n",
       "      <td>leisure,</td>\n",
       "      <td>Fusion</td>\n",
       "      <td>cold</td>\n",
       "    </tr>\n",
       "    <tr>\n",
       "      <th>1</th>\n",
       "      <td>466315</td>\n",
       "      <td>Female</td>\n",
       "      <td>Yes</td>\n",
       "      <td>67</td>\n",
       "      <td>Yes</td>\n",
       "      <td>Engineer</td>\n",
       "      <td>1.0</td>\n",
       "      <td>Low</td>\n",
       "      <td>1.0</td>\n",
       "      <td>B</td>\n",
       "      <td>food,</td>\n",
       "      <td>cultural</td>\n",
       "      <td>adventure</td>\n",
       "      <td>Middle</td>\n",
       "      <td>mild,</td>\n",
       "    </tr>\n",
       "    <tr>\n",
       "      <th>2</th>\n",
       "      <td>461735</td>\n",
       "      <td>Male</td>\n",
       "      <td>Yes</td>\n",
       "      <td>67</td>\n",
       "      <td>Yes</td>\n",
       "      <td>Lawyer</td>\n",
       "      <td>0.0</td>\n",
       "      <td>High</td>\n",
       "      <td>2.0</td>\n",
       "      <td>B</td>\n",
       "      <td>seafood,</td>\n",
       "      <td>surfing,</td>\n",
       "      <td>leisure,</td>\n",
       "      <td>Eastern,</td>\n",
       "      <td>mild,</td>\n",
       "    </tr>\n",
       "    <tr>\n",
       "      <th>3</th>\n",
       "      <td>461319</td>\n",
       "      <td>Male</td>\n",
       "      <td>Yes</td>\n",
       "      <td>56</td>\n",
       "      <td>No</td>\n",
       "      <td>Artist</td>\n",
       "      <td>0.0</td>\n",
       "      <td>Average</td>\n",
       "      <td>2.0</td>\n",
       "      <td>C</td>\n",
       "      <td>dishes</td>\n",
       "      <td>shopping,</td>\n",
       "      <td>business,</td>\n",
       "      <td>Indian,</td>\n",
       "      <td>hot,</td>\n",
       "    </tr>\n",
       "    <tr>\n",
       "      <th>4</th>\n",
       "      <td>460156</td>\n",
       "      <td>Male</td>\n",
       "      <td>No</td>\n",
       "      <td>32</td>\n",
       "      <td>Yes</td>\n",
       "      <td>Healthcare</td>\n",
       "      <td>1.0</td>\n",
       "      <td>Low</td>\n",
       "      <td>3.0</td>\n",
       "      <td>C</td>\n",
       "      <td>local</td>\n",
       "      <td>diving,</td>\n",
       "      <td>business,</td>\n",
       "      <td>Middle</td>\n",
       "      <td>hot,</td>\n",
       "    </tr>\n",
       "  </tbody>\n",
       "</table>\n",
       "</div>"
      ],
      "text/plain": [
       "       ID  Gender Ever_Married  Age Graduated  Profession  Work_Experience  \\\n",
       "0  462809    Male           No   22        No  Healthcare              1.0   \n",
       "1  466315  Female          Yes   67       Yes    Engineer              1.0   \n",
       "2  461735    Male          Yes   67       Yes      Lawyer              0.0   \n",
       "3  461319    Male          Yes   56        No      Artist              0.0   \n",
       "4  460156    Male           No   32       Yes  Healthcare              1.0   \n",
       "\n",
       "  Spending_Score  Family_Size Segmentation Specific_food_categories  \\\n",
       "0            Low          4.0            D                    food,   \n",
       "1            Low          1.0            B                    food,   \n",
       "2           High          2.0            B                 seafood,   \n",
       "3        Average          2.0            C                   dishes   \n",
       "4            Low          3.0            C                    local   \n",
       "\n",
       "  preferred_activities Travel_Preferences Preferred_cuisines  \\\n",
       "0                scuba           leisure,             Fusion   \n",
       "1             cultural          adventure             Middle   \n",
       "2             surfing,           leisure,           Eastern,   \n",
       "3            shopping,          business,            Indian,   \n",
       "4              diving,          business,             Middle   \n",
       "\n",
       "  Climate_preference  \n",
       "0               cold  \n",
       "1              mild,  \n",
       "2              mild,  \n",
       "3               hot,  \n",
       "4               hot,  "
      ]
     },
     "execution_count": 73,
     "metadata": {},
     "output_type": "execute_result"
    }
   ],
   "source": [
    "data.head()"
   ]
  },
  {
   "cell_type": "code",
   "execution_count": 74,
   "id": "8a19ba2f-7051-42f8-9bb5-9b22f3ebd39c",
   "metadata": {},
   "outputs": [],
   "source": [
    "# (number of rows, number of columns)"
   ]
  },
  {
   "cell_type": "code",
   "execution_count": 75,
   "id": "5a06c779-eb13-4dd2-a723-2abda2f98f1d",
   "metadata": {},
   "outputs": [
    {
     "data": {
      "text/plain": [
       "(6665, 15)"
      ]
     },
     "execution_count": 75,
     "metadata": {},
     "output_type": "execute_result"
    }
   ],
   "source": [
    "data.shape"
   ]
  },
  {
   "cell_type": "code",
   "execution_count": 76,
   "id": "41de1536-7b18-4e0f-9b64-c11f4eb1744f",
   "metadata": {},
   "outputs": [],
   "source": [
    "# describe the dataset"
   ]
  },
  {
   "cell_type": "code",
   "execution_count": 77,
   "id": "a1b2cc62-dd30-406a-826c-6730dde9e1d8",
   "metadata": {},
   "outputs": [
    {
     "data": {
      "text/html": [
       "<div>\n",
       "<style scoped>\n",
       "    .dataframe tbody tr th:only-of-type {\n",
       "        vertical-align: middle;\n",
       "    }\n",
       "\n",
       "    .dataframe tbody tr th {\n",
       "        vertical-align: top;\n",
       "    }\n",
       "\n",
       "    .dataframe thead th {\n",
       "        text-align: right;\n",
       "    }\n",
       "</style>\n",
       "<table border=\"1\" class=\"dataframe\">\n",
       "  <thead>\n",
       "    <tr style=\"text-align: right;\">\n",
       "      <th></th>\n",
       "      <th>ID</th>\n",
       "      <th>Age</th>\n",
       "      <th>Work_Experience</th>\n",
       "      <th>Family_Size</th>\n",
       "    </tr>\n",
       "  </thead>\n",
       "  <tbody>\n",
       "    <tr>\n",
       "      <th>count</th>\n",
       "      <td>6665.00000</td>\n",
       "      <td>6665.000000</td>\n",
       "      <td>6665.000000</td>\n",
       "      <td>6665.000000</td>\n",
       "    </tr>\n",
       "    <tr>\n",
       "      <th>mean</th>\n",
       "      <td>463519.84096</td>\n",
       "      <td>43.536084</td>\n",
       "      <td>2.629107</td>\n",
       "      <td>2.841110</td>\n",
       "    </tr>\n",
       "    <tr>\n",
       "      <th>std</th>\n",
       "      <td>2566.43174</td>\n",
       "      <td>16.524054</td>\n",
       "      <td>3.405365</td>\n",
       "      <td>1.524743</td>\n",
       "    </tr>\n",
       "    <tr>\n",
       "      <th>min</th>\n",
       "      <td>458982.00000</td>\n",
       "      <td>18.000000</td>\n",
       "      <td>0.000000</td>\n",
       "      <td>1.000000</td>\n",
       "    </tr>\n",
       "    <tr>\n",
       "      <th>25%</th>\n",
       "      <td>461349.00000</td>\n",
       "      <td>31.000000</td>\n",
       "      <td>0.000000</td>\n",
       "      <td>2.000000</td>\n",
       "    </tr>\n",
       "    <tr>\n",
       "      <th>50%</th>\n",
       "      <td>463575.00000</td>\n",
       "      <td>41.000000</td>\n",
       "      <td>1.000000</td>\n",
       "      <td>2.000000</td>\n",
       "    </tr>\n",
       "    <tr>\n",
       "      <th>75%</th>\n",
       "      <td>465741.00000</td>\n",
       "      <td>53.000000</td>\n",
       "      <td>4.000000</td>\n",
       "      <td>4.000000</td>\n",
       "    </tr>\n",
       "    <tr>\n",
       "      <th>max</th>\n",
       "      <td>467974.00000</td>\n",
       "      <td>89.000000</td>\n",
       "      <td>14.000000</td>\n",
       "      <td>9.000000</td>\n",
       "    </tr>\n",
       "  </tbody>\n",
       "</table>\n",
       "</div>"
      ],
      "text/plain": [
       "                 ID          Age  Work_Experience  Family_Size\n",
       "count    6665.00000  6665.000000      6665.000000  6665.000000\n",
       "mean   463519.84096    43.536084         2.629107     2.841110\n",
       "std      2566.43174    16.524054         3.405365     1.524743\n",
       "min    458982.00000    18.000000         0.000000     1.000000\n",
       "25%    461349.00000    31.000000         0.000000     2.000000\n",
       "50%    463575.00000    41.000000         1.000000     2.000000\n",
       "75%    465741.00000    53.000000         4.000000     4.000000\n",
       "max    467974.00000    89.000000        14.000000     9.000000"
      ]
     },
     "execution_count": 77,
     "metadata": {},
     "output_type": "execute_result"
    }
   ],
   "source": [
    "data.describe()"
   ]
  },
  {
   "cell_type": "code",
   "execution_count": 78,
   "id": "ea83db74-838a-42c4-8d90-bf8d45cdc1ae",
   "metadata": {},
   "outputs": [
    {
     "name": "stdout",
     "output_type": "stream",
     "text": [
      "<class 'pandas.core.frame.DataFrame'>\n",
      "RangeIndex: 6665 entries, 0 to 6664\n",
      "Data columns (total 15 columns):\n",
      " #   Column                    Non-Null Count  Dtype  \n",
      "---  ------                    --------------  -----  \n",
      " 0   ID                        6665 non-null   int64  \n",
      " 1   Gender                    6665 non-null   object \n",
      " 2   Ever_Married              6665 non-null   object \n",
      " 3   Age                       6665 non-null   int64  \n",
      " 4   Graduated                 6665 non-null   object \n",
      " 5   Profession                6665 non-null   object \n",
      " 6   Work_Experience           6665 non-null   float64\n",
      " 7   Spending_Score            6665 non-null   object \n",
      " 8   Family_Size               6665 non-null   float64\n",
      " 9   Segmentation              6665 non-null   object \n",
      " 10  Specific_food_categories  6665 non-null   object \n",
      " 11  preferred_activities      6665 non-null   object \n",
      " 12  Travel_Preferences        6665 non-null   object \n",
      " 13  Preferred_cuisines        6665 non-null   object \n",
      " 14  Climate_preference        6665 non-null   object \n",
      "dtypes: float64(2), int64(2), object(11)\n",
      "memory usage: 781.2+ KB\n"
     ]
    }
   ],
   "source": [
    "data.info()"
   ]
  },
  {
   "cell_type": "code",
   "execution_count": 79,
   "id": "a743d36d-60d4-4f08-b062-32a0f7ec1a8e",
   "metadata": {},
   "outputs": [
    {
     "data": {
      "text/html": [
       "<div>\n",
       "<style scoped>\n",
       "    .dataframe tbody tr th:only-of-type {\n",
       "        vertical-align: middle;\n",
       "    }\n",
       "\n",
       "    .dataframe tbody tr th {\n",
       "        vertical-align: top;\n",
       "    }\n",
       "\n",
       "    .dataframe thead th {\n",
       "        text-align: right;\n",
       "    }\n",
       "</style>\n",
       "<table border=\"1\" class=\"dataframe\">\n",
       "  <thead>\n",
       "    <tr style=\"text-align: right;\">\n",
       "      <th></th>\n",
       "      <th>Gender</th>\n",
       "      <th>Ever_Married</th>\n",
       "      <th>Graduated</th>\n",
       "      <th>Profession</th>\n",
       "      <th>Spending_Score</th>\n",
       "      <th>Specific_food_categories</th>\n",
       "      <th>preferred_activities</th>\n",
       "      <th>Travel_Preferences</th>\n",
       "      <th>Preferred_cuisines</th>\n",
       "      <th>Climate_preference</th>\n",
       "    </tr>\n",
       "  </thead>\n",
       "  <tbody>\n",
       "    <tr>\n",
       "      <th>0</th>\n",
       "      <td>Male</td>\n",
       "      <td>No</td>\n",
       "      <td>No</td>\n",
       "      <td>Healthcare</td>\n",
       "      <td>Low</td>\n",
       "      <td>food,</td>\n",
       "      <td>scuba</td>\n",
       "      <td>leisure,</td>\n",
       "      <td>Fusion</td>\n",
       "      <td>cold</td>\n",
       "    </tr>\n",
       "    <tr>\n",
       "      <th>1</th>\n",
       "      <td>Female</td>\n",
       "      <td>Yes</td>\n",
       "      <td>Yes</td>\n",
       "      <td>Engineer</td>\n",
       "      <td>Low</td>\n",
       "      <td>food,</td>\n",
       "      <td>cultural</td>\n",
       "      <td>adventure</td>\n",
       "      <td>Middle</td>\n",
       "      <td>mild,</td>\n",
       "    </tr>\n",
       "    <tr>\n",
       "      <th>2</th>\n",
       "      <td>Male</td>\n",
       "      <td>Yes</td>\n",
       "      <td>Yes</td>\n",
       "      <td>Lawyer</td>\n",
       "      <td>High</td>\n",
       "      <td>seafood,</td>\n",
       "      <td>surfing,</td>\n",
       "      <td>leisure,</td>\n",
       "      <td>Eastern,</td>\n",
       "      <td>mild,</td>\n",
       "    </tr>\n",
       "    <tr>\n",
       "      <th>3</th>\n",
       "      <td>Male</td>\n",
       "      <td>Yes</td>\n",
       "      <td>No</td>\n",
       "      <td>Artist</td>\n",
       "      <td>Average</td>\n",
       "      <td>dishes</td>\n",
       "      <td>shopping,</td>\n",
       "      <td>business,</td>\n",
       "      <td>Indian,</td>\n",
       "      <td>hot,</td>\n",
       "    </tr>\n",
       "    <tr>\n",
       "      <th>4</th>\n",
       "      <td>Male</td>\n",
       "      <td>No</td>\n",
       "      <td>Yes</td>\n",
       "      <td>Healthcare</td>\n",
       "      <td>Low</td>\n",
       "      <td>local</td>\n",
       "      <td>diving,</td>\n",
       "      <td>business,</td>\n",
       "      <td>Middle</td>\n",
       "      <td>hot,</td>\n",
       "    </tr>\n",
       "  </tbody>\n",
       "</table>\n",
       "</div>"
      ],
      "text/plain": [
       "   Gender Ever_Married Graduated  Profession Spending_Score  \\\n",
       "0    Male           No        No  Healthcare            Low   \n",
       "1  Female          Yes       Yes    Engineer            Low   \n",
       "2    Male          Yes       Yes      Lawyer           High   \n",
       "3    Male          Yes        No      Artist        Average   \n",
       "4    Male           No       Yes  Healthcare            Low   \n",
       "\n",
       "  Specific_food_categories preferred_activities Travel_Preferences  \\\n",
       "0                    food,                scuba           leisure,   \n",
       "1                    food,             cultural          adventure   \n",
       "2                 seafood,             surfing,           leisure,   \n",
       "3                   dishes            shopping,          business,   \n",
       "4                    local              diving,          business,   \n",
       "\n",
       "  Preferred_cuisines Climate_preference  \n",
       "0             Fusion               cold  \n",
       "1             Middle              mild,  \n",
       "2           Eastern,              mild,  \n",
       "3            Indian,               hot,  \n",
       "4             Middle               hot,  "
      ]
     },
     "execution_count": 79,
     "metadata": {},
     "output_type": "execute_result"
    }
   ],
   "source": [
    "# check for the unique values in the catogiricals\n",
    "\n",
    "cat_columns_only=data.drop(['Age','Work_Experience','Family_Size','Segmentation','ID'],axis=1)\n",
    "cat_columns_only.head()"
   ]
  },
  {
   "cell_type": "code",
   "execution_count": null,
   "id": "0fdb41f4-bd3a-45c9-a303-a08dc989871c",
   "metadata": {},
   "outputs": [],
   "source": []
  },
  {
   "cell_type": "code",
   "execution_count": 80,
   "id": "3f3abc31-3513-430f-8227-2e0fdad5ec22",
   "metadata": {},
   "outputs": [],
   "source": [
    "import matplotlib.pyplot as plt"
   ]
  },
  {
   "cell_type": "code",
   "execution_count": 81,
   "id": "dda80007-4ba1-42df-9d26-95e976c2771d",
   "metadata": {},
   "outputs": [
    {
     "data": {
      "image/png": "[encoded data removed]",
      "text/plain": [
       "<Figure size 640x480 with 1 Axes>"
      ]
     },
     "metadata": {},
     "output_type": "display_data"
    },
    {
     "data": {
      "image/png": "[encoded data removed]",
      "text/plain": [
       "<Figure size 640x480 with 1 Axes>"
      ]
     },
     "metadata": {},
     "output_type": "display_data"
    },
    {
     "data": {
      "image/png": "[encoded data removed]",
      "text/plain": [
       "<Figure size 640x480 with 1 Axes>"
      ]
     },
     "metadata": {},
     "output_type": "display_data"
    },
    {
     "data": {
      "image/png": "[encoded data removed]",
      "text/plain": [
       "<Figure size 640x480 with 1 Axes>"
      ]
     },
     "metadata": {},
     "output_type": "display_data"
    },
    {
     "data": {
      "image/png": "[encoded data removed]",
      "text/plain": [
       "<Figure size 640x480 with 1 Axes>"
      ]
     },
     "metadata": {},
     "output_type": "display_data"
    },
    {
     "data": {
      "image/png": "[encoded data removed]",
      "text/plain": [
       "<Figure size 640x480 with 1 Axes>"
      ]
     },
     "metadata": {},
     "output_type": "display_data"
    },
    {
     "data": {
      "image/png": "[encoded data removed]",
      "text/plain": [
       "<Figure size 640x480 with 1 Axes>"
      ]
     },
     "metadata": {},
     "output_type": "display_data"
    },
    {
     "data": {
      "image/png": "[encoded data removed]",
      "text/plain": [
       "<Figure size 640x480 with 1 Axes>"
      ]
     },
     "metadata": {},
     "output_type": "display_data"
    },
    {
     "data": {
      "image/png": "[encoded data removed]",
      "text/plain": [
       "<Figure size 640x480 with 1 Axes>"
      ]
     },
     "metadata": {},
     "output_type": "display_data"
    },
    {
     "data": {
      "image/png": "[encoded data removed]",
      "text/plain": [
       "<Figure size 640x480 with 1 Axes>"
      ]
     },
     "metadata": {},
     "output_type": "display_data"
    }
   ],
   "source": [
    "plt.subplot(5,2,2)\n",
    "\n",
    "for index,i in enumerate(cat_columns_only.columns):\n",
    "    plt.title(i)\n",
    "    plt.pie(cat_columns_only[i].value_counts(),labels=cat_columns_only[i].unique())\n",
    "    plt.show()\n"
   ]
  },
  {
   "cell_type": "code",
   "execution_count": 82,
   "id": "af1328d1-24a0-4c4d-8276-d6d045725c44",
   "metadata": {},
   "outputs": [
    {
     "data": {
      "text/html": [
       "<div>\n",
       "<style scoped>\n",
       "    .dataframe tbody tr th:only-of-type {\n",
       "        vertical-align: middle;\n",
       "    }\n",
       "\n",
       "    .dataframe tbody tr th {\n",
       "        vertical-align: top;\n",
       "    }\n",
       "\n",
       "    .dataframe thead th {\n",
       "        text-align: right;\n",
       "    }\n",
       "</style>\n",
       "<table border=\"1\" class=\"dataframe\">\n",
       "  <thead>\n",
       "    <tr style=\"text-align: right;\">\n",
       "      <th></th>\n",
       "      <th>Age</th>\n",
       "    </tr>\n",
       "  </thead>\n",
       "  <tbody>\n",
       "    <tr>\n",
       "      <th>count</th>\n",
       "      <td>6665.000000</td>\n",
       "    </tr>\n",
       "    <tr>\n",
       "      <th>mean</th>\n",
       "      <td>43.536084</td>\n",
       "    </tr>\n",
       "    <tr>\n",
       "      <th>std</th>\n",
       "      <td>16.524054</td>\n",
       "    </tr>\n",
       "    <tr>\n",
       "      <th>min</th>\n",
       "      <td>18.000000</td>\n",
       "    </tr>\n",
       "    <tr>\n",
       "      <th>25%</th>\n",
       "      <td>31.000000</td>\n",
       "    </tr>\n",
       "    <tr>\n",
       "      <th>50%</th>\n",
       "      <td>41.000000</td>\n",
       "    </tr>\n",
       "    <tr>\n",
       "      <th>75%</th>\n",
       "      <td>53.000000</td>\n",
       "    </tr>\n",
       "    <tr>\n",
       "      <th>max</th>\n",
       "      <td>89.000000</td>\n",
       "    </tr>\n",
       "  </tbody>\n",
       "</table>\n",
       "</div>"
      ],
      "text/plain": [
       "               Age\n",
       "count  6665.000000\n",
       "mean     43.536084\n",
       "std      16.524054\n",
       "min      18.000000\n",
       "25%      31.000000\n",
       "50%      41.000000\n",
       "75%      53.000000\n",
       "max      89.000000"
      ]
     },
     "execution_count": 82,
     "metadata": {},
     "output_type": "execute_result"
    }
   ],
   "source": [
    "\n",
    "#max age \n",
    "\n",
    "data[['Age']].describe()"
   ]
  },
  {
   "cell_type": "code",
   "execution_count": 83,
   "id": "574764e0-0f4b-46d6-bdc0-d56f557a7aee",
   "metadata": {},
   "outputs": [
    {
     "data": {
      "text/html": [
       "<div>\n",
       "<style scoped>\n",
       "    .dataframe tbody tr th:only-of-type {\n",
       "        vertical-align: middle;\n",
       "    }\n",
       "\n",
       "    .dataframe tbody tr th {\n",
       "        vertical-align: top;\n",
       "    }\n",
       "\n",
       "    .dataframe thead th {\n",
       "        text-align: right;\n",
       "    }\n",
       "</style>\n",
       "<table border=\"1\" class=\"dataframe\">\n",
       "  <thead>\n",
       "    <tr style=\"text-align: right;\">\n",
       "      <th></th>\n",
       "      <th>Family_Size</th>\n",
       "    </tr>\n",
       "  </thead>\n",
       "  <tbody>\n",
       "    <tr>\n",
       "      <th>count</th>\n",
       "      <td>6665.000000</td>\n",
       "    </tr>\n",
       "    <tr>\n",
       "      <th>mean</th>\n",
       "      <td>2.841110</td>\n",
       "    </tr>\n",
       "    <tr>\n",
       "      <th>std</th>\n",
       "      <td>1.524743</td>\n",
       "    </tr>\n",
       "    <tr>\n",
       "      <th>min</th>\n",
       "      <td>1.000000</td>\n",
       "    </tr>\n",
       "    <tr>\n",
       "      <th>25%</th>\n",
       "      <td>2.000000</td>\n",
       "    </tr>\n",
       "    <tr>\n",
       "      <th>50%</th>\n",
       "      <td>2.000000</td>\n",
       "    </tr>\n",
       "    <tr>\n",
       "      <th>75%</th>\n",
       "      <td>4.000000</td>\n",
       "    </tr>\n",
       "    <tr>\n",
       "      <th>max</th>\n",
       "      <td>9.000000</td>\n",
       "    </tr>\n",
       "  </tbody>\n",
       "</table>\n",
       "</div>"
      ],
      "text/plain": [
       "       Family_Size\n",
       "count  6665.000000\n",
       "mean      2.841110\n",
       "std       1.524743\n",
       "min       1.000000\n",
       "25%       2.000000\n",
       "50%       2.000000\n",
       "75%       4.000000\n",
       "max       9.000000"
      ]
     },
     "execution_count": 83,
     "metadata": {},
     "output_type": "execute_result"
    }
   ],
   "source": [
    "# max family\n",
    "data[['Family_Size']].describe()"
   ]
  },
  {
   "cell_type": "code",
   "execution_count": 84,
   "id": "7e9f4067-0e76-4020-90c4-d338ce87bbd7",
   "metadata": {},
   "outputs": [
    {
     "data": {
      "text/html": [
       "<div>\n",
       "<style scoped>\n",
       "    .dataframe tbody tr th:only-of-type {\n",
       "        vertical-align: middle;\n",
       "    }\n",
       "\n",
       "    .dataframe tbody tr th {\n",
       "        vertical-align: top;\n",
       "    }\n",
       "\n",
       "    .dataframe thead th {\n",
       "        text-align: right;\n",
       "    }\n",
       "</style>\n",
       "<table border=\"1\" class=\"dataframe\">\n",
       "  <thead>\n",
       "    <tr style=\"text-align: right;\">\n",
       "      <th></th>\n",
       "      <th>Work_Experience</th>\n",
       "    </tr>\n",
       "  </thead>\n",
       "  <tbody>\n",
       "    <tr>\n",
       "      <th>count</th>\n",
       "      <td>6665.000000</td>\n",
       "    </tr>\n",
       "    <tr>\n",
       "      <th>mean</th>\n",
       "      <td>2.629107</td>\n",
       "    </tr>\n",
       "    <tr>\n",
       "      <th>std</th>\n",
       "      <td>3.405365</td>\n",
       "    </tr>\n",
       "    <tr>\n",
       "      <th>min</th>\n",
       "      <td>0.000000</td>\n",
       "    </tr>\n",
       "    <tr>\n",
       "      <th>25%</th>\n",
       "      <td>0.000000</td>\n",
       "    </tr>\n",
       "    <tr>\n",
       "      <th>50%</th>\n",
       "      <td>1.000000</td>\n",
       "    </tr>\n",
       "    <tr>\n",
       "      <th>75%</th>\n",
       "      <td>4.000000</td>\n",
       "    </tr>\n",
       "    <tr>\n",
       "      <th>max</th>\n",
       "      <td>14.000000</td>\n",
       "    </tr>\n",
       "  </tbody>\n",
       "</table>\n",
       "</div>"
      ],
      "text/plain": [
       "       Work_Experience\n",
       "count      6665.000000\n",
       "mean          2.629107\n",
       "std           3.405365\n",
       "min           0.000000\n",
       "25%           0.000000\n",
       "50%           1.000000\n",
       "75%           4.000000\n",
       "max          14.000000"
      ]
     },
     "execution_count": 84,
     "metadata": {},
     "output_type": "execute_result"
    }
   ],
   "source": [
    "# Work_Experience \n",
    "data[['Work_Experience']].describe()"
   ]
  },
  {
   "cell_type": "code",
   "execution_count": 85,
   "id": "20216010-ac59-455d-8b6a-260efdf04089",
   "metadata": {},
   "outputs": [
    {
     "data": {
      "text/html": [
       "<div>\n",
       "<style scoped>\n",
       "    .dataframe tbody tr th:only-of-type {\n",
       "        vertical-align: middle;\n",
       "    }\n",
       "\n",
       "    .dataframe tbody tr th {\n",
       "        vertical-align: top;\n",
       "    }\n",
       "\n",
       "    .dataframe thead th {\n",
       "        text-align: right;\n",
       "    }\n",
       "</style>\n",
       "<table border=\"1\" class=\"dataframe\">\n",
       "  <thead>\n",
       "    <tr style=\"text-align: right;\">\n",
       "      <th></th>\n",
       "      <th>ID</th>\n",
       "      <th>Gender</th>\n",
       "      <th>Ever_Married</th>\n",
       "      <th>Age</th>\n",
       "      <th>Graduated</th>\n",
       "      <th>Profession</th>\n",
       "      <th>Work_Experience</th>\n",
       "      <th>Spending_Score</th>\n",
       "      <th>Family_Size</th>\n",
       "      <th>Segmentation</th>\n",
       "      <th>Specific_food_categories</th>\n",
       "      <th>preferred_activities</th>\n",
       "      <th>Travel_Preferences</th>\n",
       "      <th>Preferred_cuisines</th>\n",
       "      <th>Climate_preference</th>\n",
       "    </tr>\n",
       "  </thead>\n",
       "  <tbody>\n",
       "    <tr>\n",
       "      <th>0</th>\n",
       "      <td>462809</td>\n",
       "      <td>Male</td>\n",
       "      <td>No</td>\n",
       "      <td>22</td>\n",
       "      <td>No</td>\n",
       "      <td>Healthcare</td>\n",
       "      <td>1.0</td>\n",
       "      <td>Low</td>\n",
       "      <td>4.0</td>\n",
       "      <td>D</td>\n",
       "      <td>food,</td>\n",
       "      <td>scuba</td>\n",
       "      <td>leisure,</td>\n",
       "      <td>Fusion</td>\n",
       "      <td>cold</td>\n",
       "    </tr>\n",
       "    <tr>\n",
       "      <th>1</th>\n",
       "      <td>466315</td>\n",
       "      <td>Female</td>\n",
       "      <td>Yes</td>\n",
       "      <td>67</td>\n",
       "      <td>Yes</td>\n",
       "      <td>Engineer</td>\n",
       "      <td>1.0</td>\n",
       "      <td>Low</td>\n",
       "      <td>1.0</td>\n",
       "      <td>B</td>\n",
       "      <td>food,</td>\n",
       "      <td>cultural</td>\n",
       "      <td>adventure</td>\n",
       "      <td>Middle</td>\n",
       "      <td>mild,</td>\n",
       "    </tr>\n",
       "    <tr>\n",
       "      <th>2</th>\n",
       "      <td>461735</td>\n",
       "      <td>Male</td>\n",
       "      <td>Yes</td>\n",
       "      <td>67</td>\n",
       "      <td>Yes</td>\n",
       "      <td>Lawyer</td>\n",
       "      <td>0.0</td>\n",
       "      <td>High</td>\n",
       "      <td>2.0</td>\n",
       "      <td>B</td>\n",
       "      <td>seafood,</td>\n",
       "      <td>surfing,</td>\n",
       "      <td>leisure,</td>\n",
       "      <td>Eastern,</td>\n",
       "      <td>mild,</td>\n",
       "    </tr>\n",
       "    <tr>\n",
       "      <th>3</th>\n",
       "      <td>461319</td>\n",
       "      <td>Male</td>\n",
       "      <td>Yes</td>\n",
       "      <td>56</td>\n",
       "      <td>No</td>\n",
       "      <td>Artist</td>\n",
       "      <td>0.0</td>\n",
       "      <td>Average</td>\n",
       "      <td>2.0</td>\n",
       "      <td>C</td>\n",
       "      <td>dishes</td>\n",
       "      <td>shopping,</td>\n",
       "      <td>business,</td>\n",
       "      <td>Indian,</td>\n",
       "      <td>hot,</td>\n",
       "    </tr>\n",
       "    <tr>\n",
       "      <th>4</th>\n",
       "      <td>460156</td>\n",
       "      <td>Male</td>\n",
       "      <td>No</td>\n",
       "      <td>32</td>\n",
       "      <td>Yes</td>\n",
       "      <td>Healthcare</td>\n",
       "      <td>1.0</td>\n",
       "      <td>Low</td>\n",
       "      <td>3.0</td>\n",
       "      <td>C</td>\n",
       "      <td>local</td>\n",
       "      <td>diving,</td>\n",
       "      <td>business,</td>\n",
       "      <td>Middle</td>\n",
       "      <td>hot,</td>\n",
       "    </tr>\n",
       "  </tbody>\n",
       "</table>\n",
       "</div>"
      ],
      "text/plain": [
       "       ID  Gender Ever_Married  Age Graduated  Profession  Work_Experience  \\\n",
       "0  462809    Male           No   22        No  Healthcare              1.0   \n",
       "1  466315  Female          Yes   67       Yes    Engineer              1.0   \n",
       "2  461735    Male          Yes   67       Yes      Lawyer              0.0   \n",
       "3  461319    Male          Yes   56        No      Artist              0.0   \n",
       "4  460156    Male           No   32       Yes  Healthcare              1.0   \n",
       "\n",
       "  Spending_Score  Family_Size Segmentation Specific_food_categories  \\\n",
       "0            Low          4.0            D                    food,   \n",
       "1            Low          1.0            B                    food,   \n",
       "2           High          2.0            B                 seafood,   \n",
       "3        Average          2.0            C                   dishes   \n",
       "4            Low          3.0            C                    local   \n",
       "\n",
       "  preferred_activities Travel_Preferences Preferred_cuisines  \\\n",
       "0                scuba           leisure,             Fusion   \n",
       "1             cultural          adventure             Middle   \n",
       "2             surfing,           leisure,           Eastern,   \n",
       "3            shopping,          business,            Indian,   \n",
       "4              diving,          business,             Middle   \n",
       "\n",
       "  Climate_preference  \n",
       "0               cold  \n",
       "1              mild,  \n",
       "2              mild,  \n",
       "3               hot,  \n",
       "4               hot,  "
      ]
     },
     "execution_count": 85,
     "metadata": {},
     "output_type": "execute_result"
    }
   ],
   "source": [
    "data.head()"
   ]
  },
  {
   "cell_type": "code",
   "execution_count": 86,
   "id": "f106c87a-5c76-4197-8021-0df3a66823c6",
   "metadata": {},
   "outputs": [],
   "source": [
    "from sklearn.model_selection import train_test_split\n",
    "from sklearn import tree"
   ]
  },
  {
   "cell_type": "code",
   "execution_count": 87,
   "id": "7897ec83-3b6c-4461-b6c2-b6508c1896bd",
   "metadata": {},
   "outputs": [],
   "source": [
    "X=data.drop(['Segmentation','Profession','Work_Experience'],axis=1)\n",
    "Y=data[['Segmentation']]"
   ]
  },
  {
   "cell_type": "code",
   "execution_count": 88,
   "id": "0d08a3b8-da29-4a71-bf38-2352e6de14a5",
   "metadata": {},
   "outputs": [],
   "source": [
    "x_train,x_test,y_train,y_test=train_test_split(X,Y,test_size=0.3)"
   ]
  },
  {
   "cell_type": "code",
   "execution_count": 89,
   "id": "67be8671-3278-4cf6-a791-3c4770846aeb",
   "metadata": {},
   "outputs": [
    {
     "data": {
      "text/plain": [
       "(4665, 11)"
      ]
     },
     "execution_count": 89,
     "metadata": {},
     "output_type": "execute_result"
    }
   ],
   "source": [
    "x_train.shape"
   ]
  },
  {
   "cell_type": "code",
   "execution_count": 90,
   "id": "7dd0aa7b-4620-4df6-b83b-9282df0296f5",
   "metadata": {},
   "outputs": [],
   "source": [
    "model=tree.DecisionTreeClassifier()"
   ]
  },
  {
   "cell_type": "code",
   "execution_count": 91,
   "id": "1eeb3f20-551e-41ac-8e98-e3e8456baf82",
   "metadata": {},
   "outputs": [],
   "source": [
    "from sklearn.preprocessing import LabelEncoder"
   ]
  },
  {
   "cell_type": "code",
   "execution_count": 92,
   "id": "e9dad0eb-4b39-4cd3-a6db-a2cdd4a879cc",
   "metadata": {},
   "outputs": [],
   "source": [
    "X['Gender']=LabelEncoder().fit_transform(X['Gender'])"
   ]
  },
  {
   "cell_type": "code",
   "execution_count": 93,
   "id": "9c32e4dc-506c-470c-9b73-23b5938421d8",
   "metadata": {},
   "outputs": [
    {
     "data": {
      "text/html": [
       "<div>\n",
       "<style scoped>\n",
       "    .dataframe tbody tr th:only-of-type {\n",
       "        vertical-align: middle;\n",
       "    }\n",
       "\n",
       "    .dataframe tbody tr th {\n",
       "        vertical-align: top;\n",
       "    }\n",
       "\n",
       "    .dataframe thead th {\n",
       "        text-align: right;\n",
       "    }\n",
       "</style>\n",
       "<table border=\"1\" class=\"dataframe\">\n",
       "  <thead>\n",
       "    <tr style=\"text-align: right;\">\n",
       "      <th></th>\n",
       "      <th>ID</th>\n",
       "      <th>Gender</th>\n",
       "      <th>Ever_Married</th>\n",
       "      <th>Age</th>\n",
       "      <th>Graduated</th>\n",
       "      <th>Family_Size</th>\n",
       "      <th>Specific_food_categories</th>\n",
       "      <th>preferred_activities</th>\n",
       "      <th>Travel_Preferences</th>\n",
       "      <th>Preferred_cuisines</th>\n",
       "      <th>Climate_preference</th>\n",
       "    </tr>\n",
       "  </thead>\n",
       "  <tbody>\n",
       "    <tr>\n",
       "      <th>0</th>\n",
       "      <td>462809</td>\n",
       "      <td>1</td>\n",
       "      <td>No</td>\n",
       "      <td>22</td>\n",
       "      <td>No</td>\n",
       "      <td>4.0</td>\n",
       "      <td>food,</td>\n",
       "      <td>scuba</td>\n",
       "      <td>leisure,</td>\n",
       "      <td>Fusion</td>\n",
       "      <td>cold</td>\n",
       "    </tr>\n",
       "    <tr>\n",
       "      <th>1</th>\n",
       "      <td>466315</td>\n",
       "      <td>0</td>\n",
       "      <td>Yes</td>\n",
       "      <td>67</td>\n",
       "      <td>Yes</td>\n",
       "      <td>1.0</td>\n",
       "      <td>food,</td>\n",
       "      <td>cultural</td>\n",
       "      <td>adventure</td>\n",
       "      <td>Middle</td>\n",
       "      <td>mild,</td>\n",
       "    </tr>\n",
       "    <tr>\n",
       "      <th>2</th>\n",
       "      <td>461735</td>\n",
       "      <td>1</td>\n",
       "      <td>Yes</td>\n",
       "      <td>67</td>\n",
       "      <td>Yes</td>\n",
       "      <td>2.0</td>\n",
       "      <td>seafood,</td>\n",
       "      <td>surfing,</td>\n",
       "      <td>leisure,</td>\n",
       "      <td>Eastern,</td>\n",
       "      <td>mild,</td>\n",
       "    </tr>\n",
       "    <tr>\n",
       "      <th>3</th>\n",
       "      <td>461319</td>\n",
       "      <td>1</td>\n",
       "      <td>Yes</td>\n",
       "      <td>56</td>\n",
       "      <td>No</td>\n",
       "      <td>2.0</td>\n",
       "      <td>dishes</td>\n",
       "      <td>shopping,</td>\n",
       "      <td>business,</td>\n",
       "      <td>Indian,</td>\n",
       "      <td>hot,</td>\n",
       "    </tr>\n",
       "    <tr>\n",
       "      <th>4</th>\n",
       "      <td>460156</td>\n",
       "      <td>1</td>\n",
       "      <td>No</td>\n",
       "      <td>32</td>\n",
       "      <td>Yes</td>\n",
       "      <td>3.0</td>\n",
       "      <td>local</td>\n",
       "      <td>diving,</td>\n",
       "      <td>business,</td>\n",
       "      <td>Middle</td>\n",
       "      <td>hot,</td>\n",
       "    </tr>\n",
       "  </tbody>\n",
       "</table>\n",
       "</div>"
      ],
      "text/plain": [
       "       ID  Gender Ever_Married  Age Graduated  Family_Size  \\\n",
       "0  462809       1           No   22        No          4.0   \n",
       "1  466315       0          Yes   67       Yes          1.0   \n",
       "2  461735       1          Yes   67       Yes          2.0   \n",
       "3  461319       1          Yes   56        No          2.0   \n",
       "4  460156       1           No   32       Yes          3.0   \n",
       "\n",
       "  Specific_food_categories preferred_activities Travel_Preferences  \\\n",
       "0                    food,                scuba           leisure,   \n",
       "1                    food,             cultural          adventure   \n",
       "2                 seafood,             surfing,           leisure,   \n",
       "3                   dishes            shopping,          business,   \n",
       "4                    local              diving,          business,   \n",
       "\n",
       "  Preferred_cuisines Climate_preference  \n",
       "0             Fusion               cold  \n",
       "1             Middle              mild,  \n",
       "2           Eastern,              mild,  \n",
       "3            Indian,               hot,  \n",
       "4             Middle               hot,  "
      ]
     },
     "execution_count": 93,
     "metadata": {},
     "output_type": "execute_result"
    }
   ],
   "source": [
    "X.head()"
   ]
  },
  {
   "cell_type": "code",
   "execution_count": 94,
   "id": "2953e207-32be-4fdb-91d3-8f419f14c7e4",
   "metadata": {},
   "outputs": [],
   "source": [
    "X['Ever_Married']=LabelEncoder().fit_transform(X['Ever_Married'])"
   ]
  },
  {
   "cell_type": "code",
   "execution_count": 95,
   "id": "1457d750-3939-42a4-8c38-6e34efd362fd",
   "metadata": {},
   "outputs": [],
   "source": [
    "X['Graduated']=LabelEncoder().fit_transform(X['Graduated'])\t"
   ]
  },
  {
   "cell_type": "code",
   "execution_count": 96,
   "id": "b3f4a08f-8477-4c62-b863-9338a4bdf8ac",
   "metadata": {},
   "outputs": [
    {
     "ename": "KeyError",
     "evalue": "'Profession'",
     "output_type": "error",
     "traceback": [
      "\u001b[1;31m---------------------------------------------------------------------------\u001b[0m",
      "\u001b[1;31mKeyError\u001b[0m                                  Traceback (most recent call last)",
      "File \u001b[1;32m~\\Desktop\\React Native Projects\\python_dataset_generation_suggestion\\Lib\\site-packages\\pandas\\core\\indexes\\base.py:3805\u001b[0m, in \u001b[0;36mIndex.get_loc\u001b[1;34m(self, key)\u001b[0m\n\u001b[0;32m   3804\u001b[0m \u001b[38;5;28;01mtry\u001b[39;00m:\n\u001b[1;32m-> 3805\u001b[0m     \u001b[38;5;28;01mreturn\u001b[39;00m \u001b[38;5;28;43mself\u001b[39;49m\u001b[38;5;241;43m.\u001b[39;49m\u001b[43m_engine\u001b[49m\u001b[38;5;241;43m.\u001b[39;49m\u001b[43mget_loc\u001b[49m\u001b[43m(\u001b[49m\u001b[43mcasted_key\u001b[49m\u001b[43m)\u001b[49m\n\u001b[0;32m   3806\u001b[0m \u001b[38;5;28;01mexcept\u001b[39;00m \u001b[38;5;167;01mKeyError\u001b[39;00m \u001b[38;5;28;01mas\u001b[39;00m err:\n",
      "File \u001b[1;32mindex.pyx:167\u001b[0m, in \u001b[0;36mpandas._libs.index.IndexEngine.get_loc\u001b[1;34m()\u001b[0m\n",
      "File \u001b[1;32mindex.pyx:196\u001b[0m, in \u001b[0;36mpandas._libs.index.IndexEngine.get_loc\u001b[1;34m()\u001b[0m\n",
      "File \u001b[1;32mpandas\\\\_libs\\\\hashtable_class_helper.pxi:7081\u001b[0m, in \u001b[0;36mpandas._libs.hashtable.PyObjectHashTable.get_item\u001b[1;34m()\u001b[0m\n",
      "File \u001b[1;32mpandas\\\\_libs\\\\hashtable_class_helper.pxi:7089\u001b[0m, in \u001b[0;36mpandas._libs.hashtable.PyObjectHashTable.get_item\u001b[1;34m()\u001b[0m\n",
      "\u001b[1;31mKeyError\u001b[0m: 'Profession'",
      "\nThe above exception was the direct cause of the following exception:\n",
      "\u001b[1;31mKeyError\u001b[0m                                  Traceback (most recent call last)",
      "Cell \u001b[1;32mIn[96], line 1\u001b[0m\n\u001b[1;32m----> 1\u001b[0m X[\u001b[38;5;124m'\u001b[39m\u001b[38;5;124mProfession\u001b[39m\u001b[38;5;124m'\u001b[39m]\u001b[38;5;241m=\u001b[39mLabelEncoder()\u001b[38;5;241m.\u001b[39mfit_transform(\u001b[43mX\u001b[49m\u001b[43m[\u001b[49m\u001b[38;5;124;43m'\u001b[39;49m\u001b[38;5;124;43mProfession\u001b[39;49m\u001b[38;5;124;43m'\u001b[39;49m\u001b[43m]\u001b[49m)\n",
      "File \u001b[1;32m~\\Desktop\\React Native Projects\\python_dataset_generation_suggestion\\Lib\\site-packages\\pandas\\core\\frame.py:4102\u001b[0m, in \u001b[0;36mDataFrame.__getitem__\u001b[1;34m(self, key)\u001b[0m\n\u001b[0;32m   4100\u001b[0m \u001b[38;5;28;01mif\u001b[39;00m \u001b[38;5;28mself\u001b[39m\u001b[38;5;241m.\u001b[39mcolumns\u001b[38;5;241m.\u001b[39mnlevels \u001b[38;5;241m>\u001b[39m \u001b[38;5;241m1\u001b[39m:\n\u001b[0;32m   4101\u001b[0m     \u001b[38;5;28;01mreturn\u001b[39;00m \u001b[38;5;28mself\u001b[39m\u001b[38;5;241m.\u001b[39m_getitem_multilevel(key)\n\u001b[1;32m-> 4102\u001b[0m indexer \u001b[38;5;241m=\u001b[39m \u001b[38;5;28;43mself\u001b[39;49m\u001b[38;5;241;43m.\u001b[39;49m\u001b[43mcolumns\u001b[49m\u001b[38;5;241;43m.\u001b[39;49m\u001b[43mget_loc\u001b[49m\u001b[43m(\u001b[49m\u001b[43mkey\u001b[49m\u001b[43m)\u001b[49m\n\u001b[0;32m   4103\u001b[0m \u001b[38;5;28;01mif\u001b[39;00m is_integer(indexer):\n\u001b[0;32m   4104\u001b[0m     indexer \u001b[38;5;241m=\u001b[39m [indexer]\n",
      "File \u001b[1;32m~\\Desktop\\React Native Projects\\python_dataset_generation_suggestion\\Lib\\site-packages\\pandas\\core\\indexes\\base.py:3812\u001b[0m, in \u001b[0;36mIndex.get_loc\u001b[1;34m(self, key)\u001b[0m\n\u001b[0;32m   3807\u001b[0m     \u001b[38;5;28;01mif\u001b[39;00m \u001b[38;5;28misinstance\u001b[39m(casted_key, \u001b[38;5;28mslice\u001b[39m) \u001b[38;5;129;01mor\u001b[39;00m (\n\u001b[0;32m   3808\u001b[0m         \u001b[38;5;28misinstance\u001b[39m(casted_key, abc\u001b[38;5;241m.\u001b[39mIterable)\n\u001b[0;32m   3809\u001b[0m         \u001b[38;5;129;01mand\u001b[39;00m \u001b[38;5;28many\u001b[39m(\u001b[38;5;28misinstance\u001b[39m(x, \u001b[38;5;28mslice\u001b[39m) \u001b[38;5;28;01mfor\u001b[39;00m x \u001b[38;5;129;01min\u001b[39;00m casted_key)\n\u001b[0;32m   3810\u001b[0m     ):\n\u001b[0;32m   3811\u001b[0m         \u001b[38;5;28;01mraise\u001b[39;00m InvalidIndexError(key)\n\u001b[1;32m-> 3812\u001b[0m     \u001b[38;5;28;01mraise\u001b[39;00m \u001b[38;5;167;01mKeyError\u001b[39;00m(key) \u001b[38;5;28;01mfrom\u001b[39;00m \u001b[38;5;21;01merr\u001b[39;00m\n\u001b[0;32m   3813\u001b[0m \u001b[38;5;28;01mexcept\u001b[39;00m \u001b[38;5;167;01mTypeError\u001b[39;00m:\n\u001b[0;32m   3814\u001b[0m     \u001b[38;5;66;03m# If we have a listlike key, _check_indexing_error will raise\u001b[39;00m\n\u001b[0;32m   3815\u001b[0m     \u001b[38;5;66;03m#  InvalidIndexError. Otherwise we fall through and re-raise\u001b[39;00m\n\u001b[0;32m   3816\u001b[0m     \u001b[38;5;66;03m#  the TypeError.\u001b[39;00m\n\u001b[0;32m   3817\u001b[0m     \u001b[38;5;28mself\u001b[39m\u001b[38;5;241m.\u001b[39m_check_indexing_error(key)\n",
      "\u001b[1;31mKeyError\u001b[0m: 'Profession'"
     ]
    }
   ],
   "source": [
    "X['Profession']=LabelEncoder().fit_transform(X['Profession'])"
   ]
  },
  {
   "cell_type": "code",
   "execution_count": null,
   "id": "f3e407d5-8b5e-4480-98d5-44f1afb85fee",
   "metadata": {},
   "outputs": [],
   "source": [
    "X['Spending_Score']=LabelEncoder().fit_transform(X['Spending_Score'])"
   ]
  },
  {
   "cell_type": "code",
   "execution_count": null,
   "id": "4943776e-b8f7-40b2-a731-d8469989705a",
   "metadata": {},
   "outputs": [],
   "source": [
    "X['Specific_food_categories']=LabelEncoder().fit_transform(X['Specific_food_categories'])"
   ]
  },
  {
   "cell_type": "code",
   "execution_count": null,
   "id": "c0ed07fd-2a5b-48de-ab62-4cfc3e6b4d03",
   "metadata": {},
   "outputs": [],
   "source": [
    "X['preferred_activities']=LabelEncoder().fit_transform(X['preferred_activities'])"
   ]
  },
  {
   "cell_type": "code",
   "execution_count": null,
   "id": "28b62648-f599-489a-a1c2-d1be5939b20d",
   "metadata": {},
   "outputs": [],
   "source": [
    "X['Travel_Preferences']=LabelEncoder().fit_transform(X['Travel_Preferences'])"
   ]
  },
  {
   "cell_type": "code",
   "execution_count": null,
   "id": "a98bbc57-db9b-492f-9b6a-2665a56552ba",
   "metadata": {},
   "outputs": [],
   "source": [
    "X['Preferred_cuisines']=LabelEncoder().fit_transform(X['Preferred_cuisines'])"
   ]
  },
  {
   "cell_type": "code",
   "execution_count": null,
   "id": "9b19896f-f16b-4ce4-9c2d-23850ba9dd97",
   "metadata": {},
   "outputs": [],
   "source": [
    "X['Climate_preference']=LabelEncoder().fit_transform(X['Climate_preference'])"
   ]
  },
  {
   "cell_type": "code",
   "execution_count": null,
   "id": "5f6b4d6d-d291-40ce-9a28-c41fe6025253",
   "metadata": {},
   "outputs": [],
   "source": [
    "X.head()"
   ]
  },
  {
   "cell_type": "code",
   "execution_count": null,
   "id": "18cca028-9ebf-4e5d-ad0f-f39e5c335c28",
   "metadata": {},
   "outputs": [],
   "source": [
    "X.drop(['ID'],inplace=True,axis=1)"
   ]
  },
  {
   "cell_type": "code",
   "execution_count": null,
   "id": "4279e987-d5bd-4174-92cf-f3eb56a09316",
   "metadata": {},
   "outputs": [],
   "source": [
    "X.head()"
   ]
  },
  {
   "cell_type": "code",
   "execution_count": null,
   "id": "1b3ec30a-e113-47ee-b1d1-bc5f16e38702",
   "metadata": {},
   "outputs": [],
   "source": [
    "from sklearn.preprocessing import StandardScaler"
   ]
  },
  {
   "cell_type": "code",
   "execution_count": null,
   "id": "8fe36eda-ee7d-44be-bc9e-2aec07d7905d",
   "metadata": {},
   "outputs": [],
   "source": [
    "scaler=StandardScaler()"
   ]
  },
  {
   "cell_type": "code",
   "execution_count": null,
   "id": "a655af4e-a3a2-4c0a-9978-e380c365b3ca",
   "metadata": {},
   "outputs": [],
   "source": [
    "x=scaler.fit_transform(X)"
   ]
  },
  {
   "cell_type": "code",
   "execution_count": null,
   "id": "b340e28f-ae24-4434-a736-00f86066ed50",
   "metadata": {},
   "outputs": [],
   "source": [
    "x.shape"
   ]
  },
  {
   "cell_type": "code",
   "execution_count": null,
   "id": "5b2f58da-532e-4478-83c6-77970e52e077",
   "metadata": {},
   "outputs": [],
   "source": [
    "pd.DataFrame(x).head()"
   ]
  },
  {
   "cell_type": "code",
   "execution_count": null,
   "id": "556727f4-da02-4953-aade-194dd6dba3fd",
   "metadata": {},
   "outputs": [],
   "source": [
    "model.fit(x,Y)"
   ]
  },
  {
   "cell_type": "code",
   "execution_count": null,
   "id": "a994fd94-3795-4cb6-8fe8-84475c8e517e",
   "metadata": {},
   "outputs": [],
   "source": [
    "from sklearn.metrics import accuracy_score"
   ]
  },
  {
   "cell_type": "code",
   "execution_count": null,
   "id": "989d2494-6382-452e-a1c8-ce526930d510",
   "metadata": {},
   "outputs": [],
   "source": [
    "model.score(x,Y)*100"
   ]
  },
  {
   "cell_type": "code",
   "execution_count": null,
   "id": "6b57e370-3a42-4772-9989-90a22e9f45b4",
   "metadata": {},
   "outputs": [],
   "source": [
    "X=pd.DataFrame(x)"
   ]
  },
  {
   "cell_type": "code",
   "execution_count": null,
   "id": "93da2d15-0b49-436b-9635-ef03fb2f02ca",
   "metadata": {},
   "outputs": [],
   "source": [
    "X.head()"
   ]
  },
  {
   "cell_type": "code",
   "execution_count": null,
   "id": "616c33cc-db8f-4093-8bfa-5efee80eee4b",
   "metadata": {},
   "outputs": [],
   "source": [
    "X.shape"
   ]
  },
  {
   "cell_type": "code",
   "execution_count": null,
   "id": "132be6a5-32a3-45d0-aa44-e6a1e9d5f126",
   "metadata": {},
   "outputs": [],
   "source": [
    "x_train,x_test,y_train,y_test=train_test_split(X,Y,random_state=1,test_size=0.2)"
   ]
  },
  {
   "cell_type": "code",
   "execution_count": null,
   "id": "e78bef51-4343-4101-b3f1-673856bb1fef",
   "metadata": {},
   "outputs": [],
   "source": [
    "x_train.shape"
   ]
  },
  {
   "cell_type": "code",
   "execution_count": null,
   "id": "2ff77e66-5b7a-4289-bd54-fd22b370c96f",
   "metadata": {},
   "outputs": [],
   "source": [
    "model=tree.DecisionTreeClassifier()"
   ]
  },
  {
   "cell_type": "code",
   "execution_count": null,
   "id": "6a3ffab9-a7ba-438d-bc51-4921b2dd13c1",
   "metadata": {},
   "outputs": [],
   "source": [
    "model.fit(x_train,y_train)"
   ]
  },
  {
   "cell_type": "code",
   "execution_count": null,
   "id": "dd17c0ab-fd84-4e61-93a4-9327a2eeb277",
   "metadata": {},
   "outputs": [],
   "source": [
    "model.score(x_test,y_test)"
   ]
  },
  {
   "cell_type": "code",
   "execution_count": null,
   "id": "864ec21d-6009-476c-b72f-3f28128339cb",
   "metadata": {},
   "outputs": [],
   "source": [
    "pred=model.predict(x_test)"
   ]
  },
  {
   "cell_type": "code",
   "execution_count": null,
   "id": "ec10e2e3-0a08-414c-98f9-c228e393faa2",
   "metadata": {},
   "outputs": [],
   "source": [
    "accuracy_score(y_test,pred)"
   ]
  },
  {
   "cell_type": "code",
   "execution_count": null,
   "id": "b2124a93-37d9-4baa-8511-ec961b395b0e",
   "metadata": {},
   "outputs": [],
   "source": [
    "from sklearn.svm import SVC"
   ]
  },
  {
   "cell_type": "code",
   "execution_count": null,
   "id": "11d5a12d-2967-4fbf-8d25-cf7d6c162b46",
   "metadata": {},
   "outputs": [],
   "source": [
    "model2=SVC()"
   ]
  },
  {
   "cell_type": "code",
   "execution_count": null,
   "id": "87261eed-3750-4a3e-ab1f-1ea033a3eba7",
   "metadata": {},
   "outputs": [],
   "source": [
    "model2.fit(x_train,y_train)"
   ]
  },
  {
   "cell_type": "code",
   "execution_count": null,
   "id": "a24becd8-6843-462e-b1c3-41339aaff624",
   "metadata": {},
   "outputs": [],
   "source": [
    "model2.score(x_test,y_test)"
   ]
  },
  {
   "cell_type": "code",
   "execution_count": null,
   "id": "6cd0b16c-d82d-4b1c-b979-c26cc760fd0c",
   "metadata": {},
   "outputs": [],
   "source": [
    "from sklearn.linear_model import LogisticRegression"
   ]
  },
  {
   "cell_type": "code",
   "execution_count": null,
   "id": "927604ef-325a-479b-8d74-52c2001073ae",
   "metadata": {},
   "outputs": [],
   "source": [
    "model3=LogisticRegression()"
   ]
  },
  {
   "cell_type": "code",
   "execution_count": null,
   "id": "12f7895e-0bd5-4edf-9455-9651dc9a3303",
   "metadata": {},
   "outputs": [],
   "source": [
    "model3.fit(x_train,y_train)"
   ]
  },
  {
   "cell_type": "code",
   "execution_count": null,
   "id": "0f30c204-d0f1-4444-a7fc-87a005dd6844",
   "metadata": {},
   "outputs": [],
   "source": [
    "model3.score(x_test,y_test)"
   ]
  },
  {
   "cell_type": "code",
   "execution_count": null,
   "id": "09f92871-ca43-43e1-a61d-e160422a2e3b",
   "metadata": {},
   "outputs": [],
   "source": [
    "from sklearn.ensemble import RandomForestClassifier"
   ]
  },
  {
   "cell_type": "code",
   "execution_count": null,
   "id": "0a1ae001-ab73-4c35-bd07-841cb76d8d03",
   "metadata": {},
   "outputs": [],
   "source": [
    "model4=RandomForestClassifier(random_state=2,max_depth=2)"
   ]
  },
  {
   "cell_type": "code",
   "execution_count": null,
   "id": "b58efe71-0d3f-4393-9fed-202154bd9508",
   "metadata": {},
   "outputs": [],
   "source": [
    "model4.fit(x_train,y_train)"
   ]
  },
  {
   "cell_type": "code",
   "execution_count": null,
   "id": "d467b1fe-c315-49ed-97cf-758669bd37f3",
   "metadata": {},
   "outputs": [],
   "source": [
    "model4.score(x_test,y_test)"
   ]
  },
  {
   "cell_type": "code",
   "execution_count": null,
   "id": "69f2db41-b9f3-45d0-a7a2-d2e00ae799ee",
   "metadata": {},
   "outputs": [],
   "source": [
    "## since higest accuracy scroe is 51% CVC model is the selected one"
   ]
  },
  {
   "cell_type": "code",
   "execution_count": null,
   "id": "83eaaf32-4254-4316-a99a-b7594180fa8a",
   "metadata": {},
   "outputs": [],
   "source": [
    "import joblib"
   ]
  },
  {
   "cell_type": "code",
   "execution_count": null,
   "id": "aeab8c7c-e33d-4cea-993a-3d672db2f8b1",
   "metadata": {},
   "outputs": [],
   "source": [
    "joblib.dump(model4,'user_cat.joblib')"
   ]
  },
  {
   "cell_type": "code",
   "execution_count": null,
   "id": "250b6960-9f28-457f-b567-f60052ab4f05",
   "metadata": {},
   "outputs": [],
   "source": []
  }
 ],
 "metadata": {
  "kernelspec": {
   "display_name": "Python 3 (ipykernel)",
   "language": "python",
   "name": "python3"
  },
  "language_info": {
   "codemirror_mode": {
    "name": "ipython",
    "version": 3
   },
   "file_extension": ".py",
   "mimetype": "text/x-python",
   "name": "python",
   "nbconvert_exporter": "python",
   "pygments_lexer": "ipython3",
   "version": "3.12.1"
  }
 },
 "nbformat": 4,
 "nbformat_minor": 5
}
